{
 "cells": [
  {
   "cell_type": "markdown",
   "id": "3e4771e8",
   "metadata": {},
   "source": [
    "# Trabajo Practico n4 - Introduccion a numpy.\n",
    "## Criterios de evaluación.\n",
    "\n",
    "* Se deben utilizar nombres de variables descriptivos y claros (Utilizar la nomeclatura correspondiente para los nombres de variables).\n",
    "* Comentarios claros y concisos que expliquen el propósito de cada sección del código.\n",
    "* Utilizar mensajes de commit **descriptivos**. (Puedes utilizar la extension CONVENTIONAL COMMIT de VS-CODE). \n",
    "* Entrega en tiempo y forma.\n",
    "* Todo el código desarrollado debe ser subido a un repositorio en GitHub (el nombre del repositorio de seguir la siguiente estructura: tp4_tlp3_nombre_apellido).\n",
    "* Para resolver las actividades se debe insertar casillas de codigo entre cada actividad del cuaderno de Jupyter\n",
    "\n",
    "### ¡Importante!\n",
    "**El incumplimiento de los criterios de evaluación restará puntos en la nota final del práctico!**"
   ]
  },
  {
   "cell_type": "markdown",
   "id": "6f3340d9",
   "metadata": {},
   "source": [
    "**Importaciones:**"
   ]
  },
  {
   "cell_type": "code",
   "execution_count": 1,
   "id": "783ab170",
   "metadata": {},
   "outputs": [],
   "source": [
    "import numpy as np\n",
    "from random import randint as rd"
   ]
  },
  {
   "cell_type": "markdown",
   "id": "c5ba7292",
   "metadata": {},
   "source": [
    "**Actividad 1:**: Crea un array de NumPy que contenga los números del 0 al 9. (Debes utilizar un metodo de numpy para su creacion.)"
   ]
  },
  {
   "cell_type": "code",
   "execution_count": null,
   "id": "75029034",
   "metadata": {},
   "outputs": [
    {
     "name": "stdout",
     "output_type": "stream",
     "text": [
      "[0 1 2 3 4 5 6 7 8 9]\n"
     ]
    }
   ],
   "source": [
    "#todo: \n",
    "numeros = np.arange(10) # el arange crea un array de 0 a 9\n",
    "print(numeros)\n"
   ]
  },
  {
   "cell_type": "markdown",
   "id": "cb894927",
   "metadata": {},
   "source": [
    "**Actividad 2:** Crea un array de 5 ceros, y luego cambia el tercer elemento (índice 2) para que sea 5. (Debes utilizar un metodo de numpy para su creacion.)"
   ]
  },
  {
   "cell_type": "code",
   "execution_count": null,
   "id": "b9cd04a0",
   "metadata": {},
   "outputs": [
    {
     "name": "stdout",
     "output_type": "stream",
     "text": [
      "array con los numeros normales [0. 0. 0. 0. 0.]\n",
      "array con el tercer elemento modificado [0. 0. 5. 0. 0.]\n"
     ]
    }
   ],
   "source": [
    "#todo:\n",
    "numeros = np.zeros(5) # el zeros crea un array de 0s de tamaño 5\n",
    "\n",
    "print(f\"array con los numeros normales {numeros}\")\n",
    "\n",
    "#Cambiamos el valor del tercer elemento\n",
    "\n",
    "numeros[2] = 5\n",
    "print(f\"array con el tercer elemento modificado {numeros}\")"
   ]
  },
  {
   "cell_type": "markdown",
   "id": "000352a3",
   "metadata": {},
   "source": [
    "**Actividad 3:** Genera una matriz 3x3 de números aleatorios entre 0 y 1."
   ]
  },
  {
   "cell_type": "code",
   "execution_count": null,
   "id": "e74354c9",
   "metadata": {},
   "outputs": [
    {
     "name": "stdout",
     "output_type": "stream",
     "text": [
      "Matriz de 3x3\n",
      "[[6 5 9]\n",
      " [9 1 9]\n",
      " [5 2 9]]\n"
     ]
    }
   ],
   "source": [
    "#todo: \n",
    "matriz= np.random.randint(1,10, (3, 3)) # crea una matriz de 3x3 con valores aleatorios entre 1 y 10\n",
    "print(\"Matriz de 3x3\")\n",
    "print(matriz)\n"
   ]
  },
  {
   "cell_type": "markdown",
   "id": "6611aaf8",
   "metadata": {},
   "source": [
    "**Actividad 4:** Dado el siguiente array `arr = np.array([10, 20, 30, 40, 50])`\n",
    "1. Suma 5 a cada elemento.\n",
    "2. Multiplica todo por un numero aleatorio (utiliza el modulo random para generarlo.)"
   ]
  },
  {
   "cell_type": "code",
   "execution_count": 2,
   "id": "ed416e11",
   "metadata": {},
   "outputs": [
    {
     "name": "stdout",
     "output_type": "stream",
     "text": [
      "Array original [10 20 30 40 50]\n",
      "Array con 5 sumado a cada elemento [15 25 35 45 55]\n",
      "Numero aleatorio 8\n",
      "Array multiplicado por el numero aleatorio [ 80 160 240 320 400]\n"
     ]
    }
   ],
   "source": [
    "#todo:\n",
    "arr=np.array([10,20,30,40,50])\n",
    "print(f\"Array original {arr}\")\n",
    "\n",
    "\n",
    "arr_suma5 = arr + 5 # suma 5 a cada elemento del array\n",
    "print(f\"Array con 5 sumado a cada elemento {arr_suma5}\")\n",
    "\n",
    "numero_random = rd(0,10) # genera un numero aleatorio entre 0 y 10\n",
    "print(f\"Numero aleatorio {numero_random}\")\n",
    "\n",
    "arr_multiplicacion = arr * numero_random # multiplica cada elemento del array por el numero aleatorio\n",
    "\n",
    "print(f\"Array multiplicado por el numero aleatorio {arr_multiplicacion}\")\n",
    "\n",
    "\n"
   ]
  },
  {
   "cell_type": "markdown",
   "id": "fbd05c4d",
   "metadata": {},
   "source": [
    "**Actividad 5:** Crea una matriz identidad de tamaño 4x4 (unos en la diagonal principal y ceros en el resto)."
   ]
  },
  {
   "cell_type": "code",
   "execution_count": null,
   "id": "6811c19f",
   "metadata": {},
   "outputs": [
    {
     "name": "stdout",
     "output_type": "stream",
     "text": [
      "Matriz identidad de 4x4 \n",
      " [[1. 0. 0. 0.]\n",
      " [0. 1. 0. 0.]\n",
      " [0. 0. 1. 0.]\n",
      " [0. 0. 0. 1.]]\n"
     ]
    }
   ],
   "source": [
    "#todo:\n",
    "Matriz_identidad=np.identity(4) # crea una matriz identidad de 4x4\n",
    "print(f\"Matriz identidad de 4x4 \\n {Matriz_identidad}\") "
   ]
  },
  {
   "cell_type": "markdown",
   "id": "3ec18459",
   "metadata": {},
   "source": [
    "**Actividad 6:** Crea un array que comience en 0 hasta el 20, pero que solo tenga numeros pares yu luego realiza las 4 operaciones basicas. (suma, resta, multiplicacion, division)."
   ]
  },
  {
   "cell_type": "code",
   "execution_count": 20,
   "id": "f0c02872",
   "metadata": {},
   "outputs": [
    {
     "name": "stdout",
     "output_type": "stream",
     "text": [
      "Array sin modificaciones [ 0  2  4  6  8 10 12 14 16 18]\n",
      "Suma de todos los elementos del array 90\n",
      "Resta de todos los elementos del array [-4 -2  0  2  4  6  8 10 12 14]\n",
      "Multiplicacion de todos los elementos del array 185794560\n",
      "Division de todos los elementos del array [0.         0.5        0.66666667 0.75       0.8        0.83333333\n",
      " 0.85714286 0.875      0.88888889]\n",
      " \n",
      " haciendo las operaciones con un numero ingresado por mi \n",
      " \n",
      "Suma (+2): [ 2  4  6  8 10 12 14 16 18 20] \n",
      "Resta (-2): [-2  0  2  4  6  8 10 12 14 16] \n",
      "Multiplicación (*2): [ 0  4  8 12 16 20 24 28 32 36]\n",
      "División (/2): [0. 1. 2. 3. 4. 5. 6. 7. 8. 9.] \n"
     ]
    }
   ],
   "source": [
    "#todo: \n",
    "\n",
    "#Haciendo las operaciones entre si\n",
    "array_pares = np.arange(0,20 ,2) # crea un array de 0 a 20 con pasos de 2\n",
    "print(f\"Array sin modificaciones {array_pares}\")\n",
    "\n",
    "Suma_entre_si = np.sum(array_pares) # suma todos los elementos del array\n",
    "print(f\"Suma de todos los elementos del array {Suma_entre_si}\")\n",
    "\n",
    "resta_entre_si = np.subtract(array_pares, 4) # resta 4 a cada elemento del array\n",
    "print(f\"Resta de todos los elementos del array {resta_entre_si}\")\n",
    "\n",
    "multiplicacion_entre_si = np.prod(array_pares[array_pares != 0]) # multiplica todos los elementos del array evitando el 0\n",
    "print(f\"Multiplicacion de todos los elementos del array {multiplicacion_entre_si}\")\n",
    "\n",
    "division_entre_si = array_pares[:-1] / array_pares[1:] # array dividiendo cada elemento por el siguiente (excepto el último)\n",
    "print(f\"Division de todos los elementos del array {division_entre_si}\")\n",
    "\n",
    "print(\" \\n haciendo las operaciones con un numero ingresado por mi \\n \")\n",
    "\n",
    "#Haciendo las operaciones con el numero \"2\"\n",
    "\n",
    "suma_2 = array_pares + 2\n",
    "resta_2 = array_pares - 2\n",
    "multiplicacion_2 = array_pares * 2\n",
    "division_2 = array_pares / 2\n",
    "\n",
    "print(f\"Suma (+2): {suma_2} \")\n",
    "print(f\"Resta (-2): {resta_2} \")\n",
    "print(f\"Multiplicación (*2): {multiplicacion_2}\")\n",
    "print(f\"División (/2): {division_2} \")"
   ]
  }
 ],
 "metadata": {
  "kernelspec": {
   "display_name": "Python 3",
   "language": "python",
   "name": "python3"
  },
  "language_info": {
   "codemirror_mode": {
    "name": "ipython",
    "version": 3
   },
   "file_extension": ".py",
   "mimetype": "text/x-python",
   "name": "python",
   "nbconvert_exporter": "python",
   "pygments_lexer": "ipython3",
   "version": "3.13.2"
  }
 },
 "nbformat": 4,
 "nbformat_minor": 5
}
